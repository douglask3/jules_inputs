{
 "metadata": {
  "name": "",
  "signature": "sha256:a4914185613295d4b48a8bf507ac342cbdbde6ba65fe4cb12fdf2e2b72eb42eb"
 },
 "nbformat": 3,
 "nbformat_minor": 0,
 "worksheets": [
  {
   "cells": [
    {
     "cell_type": "code",
     "collapsed": false,
     "input": [
      "import iris\n",
      "import matplotlib.pyplot as plt\n",
      "import iris.plot as iplt\n",
      "import numpy as np"
     ],
     "language": "python",
     "metadata": {},
     "outputs": [],
     "prompt_number": 2
    },
    {
     "cell_type": "code",
     "collapsed": false,
     "input": [
      "root_dir = \"../rjel/files_for_doug/\"\n",
      "input_file = \"half_deg_files/GSWP3.BC.Rainf.3hrMap.2009.nc\"\n",
      "cube_list = iris.load( root_dir + input_file)\n",
      "\n",
      "\n",
      "input_data = cube_list[0]\n",
      "print( input_data.coord_system())"
     ],
     "language": "python",
     "metadata": {},
     "outputs": [
      {
       "output_type": "stream",
       "stream": "stdout",
       "text": [
        "None\n"
       ]
      }
     ],
     "prompt_number": 17
    },
    {
     "cell_type": "code",
     "collapsed": false,
     "input": [
      "mask_file = root_dir + \"gc3_orca1_mask\"\n",
      "mask_list = iris.load( mask_file)\n",
      "mask = mask_list[0]\n",
      "print( mask.coord(\"latitude\").coord_system)\n",
      "#mask.coord(\"longitude\").units=\"m\"\n",
      "#mask.coord(\"latitude\").units=\"m\"\n",
      "#mask.coord(\"longitude\").coord_system=\"\"\n",
      "#print(mask.coord(\"latitude\").units)"
     ],
     "language": "python",
     "metadata": {},
     "outputs": [
      {
       "output_type": "stream",
       "stream": "stdout",
       "text": [
        "GeogCS(6371229.0)\n"
       ]
      }
     ],
     "prompt_number": 15
    },
    {
     "cell_type": "code",
     "collapsed": false,
     "input": [
      "##print( input_data[0,:,:])\n",
      "##output_data = input_data[0,:,:].regrid( mask, iris.analysis.Nearest())\n",
      "## = input_data[0,:,:].interpolate( mask, iris.analysis.Nearest())\n",
      "regridder = iris.analysis.Nearest().regridder( input_data, mask)\n",
      "output_data = regridder( input_data[0,:,:])"
     ],
     "language": "python",
     "metadata": {},
     "outputs": [
      {
       "ename": "ValueError",
       "evalue": "The rectilinear grid coordinates of the given cube and target grid must either both have coordinate systems or both have no coordinate system but with matching coordinate metadata.",
       "output_type": "pyerr",
       "traceback": [
        "\u001b[1;31m---------------------------------------------------------------------------\u001b[0m\n\u001b[1;31mValueError\u001b[0m                                Traceback (most recent call last)",
        "\u001b[1;32m<ipython-input-55-e7165748dc89>\u001b[0m in \u001b[0;36m<module>\u001b[1;34m()\u001b[0m\n\u001b[0;32m      3\u001b[0m \u001b[1;31m## = input_data[0,:,:].interpolate( mask, iris.analysis.Nearest())\u001b[0m\u001b[1;33m\u001b[0m\u001b[1;33m\u001b[0m\u001b[0m\n\u001b[0;32m      4\u001b[0m \u001b[0mregridder\u001b[0m \u001b[1;33m=\u001b[0m \u001b[0miris\u001b[0m\u001b[1;33m.\u001b[0m\u001b[0manalysis\u001b[0m\u001b[1;33m.\u001b[0m\u001b[0mNearest\u001b[0m\u001b[1;33m(\u001b[0m\u001b[1;33m)\u001b[0m\u001b[1;33m.\u001b[0m\u001b[0mregridder\u001b[0m\u001b[1;33m(\u001b[0m \u001b[0minput_data\u001b[0m\u001b[1;33m,\u001b[0m \u001b[0mmask\u001b[0m\u001b[1;33m)\u001b[0m\u001b[1;33m\u001b[0m\u001b[0m\n\u001b[1;32m----> 5\u001b[1;33m \u001b[0moutput_data\u001b[0m \u001b[1;33m=\u001b[0m \u001b[0mregridder\u001b[0m\u001b[1;33m(\u001b[0m \u001b[0minput_data\u001b[0m\u001b[1;33m[\u001b[0m\u001b[1;36m0\u001b[0m\u001b[1;33m,\u001b[0m\u001b[1;33m:\u001b[0m\u001b[1;33m,\u001b[0m\u001b[1;33m:\u001b[0m\u001b[1;33m]\u001b[0m\u001b[1;33m)\u001b[0m\u001b[1;33m\u001b[0m\u001b[0m\n\u001b[0m",
        "\u001b[1;32m/users/global/rjel/.local/lib/python2.7/site-packages/Iris-1.9.1-py2.7-linux-x86_64.egg/iris/analysis/_regrid.pyc\u001b[0m in \u001b[0;36m__call__\u001b[1;34m(self, src)\u001b[0m\n\u001b[0;32m    512\u001b[0m                                  \"matching coordinate metadata.\")\n\u001b[0;32m    513\u001b[0m         \u001b[1;32melif\u001b[0m \u001b[0msrc_cs\u001b[0m \u001b[1;32mis\u001b[0m \u001b[0mNone\u001b[0m \u001b[1;32mor\u001b[0m \u001b[0mgrid_cs\u001b[0m \u001b[1;32mis\u001b[0m \u001b[0mNone\u001b[0m\u001b[1;33m:\u001b[0m\u001b[1;33m\u001b[0m\u001b[0m\n\u001b[1;32m--> 514\u001b[1;33m             raise ValueError(\"The rectilinear grid coordinates of the given \"\n\u001b[0m\u001b[0;32m    515\u001b[0m                              \u001b[1;34m\"cube and target grid must either both have \"\u001b[0m\u001b[1;33m\u001b[0m\u001b[0m\n\u001b[0;32m    516\u001b[0m                              \u001b[1;34m\"coordinate systems or both have no coordinate \"\u001b[0m\u001b[1;33m\u001b[0m\u001b[0m\n",
        "\u001b[1;31mValueError\u001b[0m: The rectilinear grid coordinates of the given cube and target grid must either both have coordinate systems or both have no coordinate system but with matching coordinate metadata."
       ]
      }
     ],
     "prompt_number": 55
    },
    {
     "cell_type": "code",
     "collapsed": false,
     "input": [],
     "language": "python",
     "metadata": {},
     "outputs": []
    }
   ],
   "metadata": {}
  }
 ]
}