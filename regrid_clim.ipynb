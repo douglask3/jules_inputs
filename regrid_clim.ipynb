{
 "metadata": {
  "name": "",
  "signature": "sha256:955aa9d927c82b91c3bec14739870e13d25a74a3cc986f17a3366d044458b695"
 },
 "nbformat": 3,
 "nbformat_minor": 0,
 "worksheets": [
  {
   "cells": [
    {
     "cell_type": "code",
     "collapsed": false,
     "input": [
      "## import libs\n",
      "import iris\n",
      "import matplotlib.pyplot as plt\n",
      "import iris.plot as iplt\n",
      "import numpy as np\n",
      "from os import listdir"
     ],
     "language": "python",
     "metadata": {},
     "outputs": [],
     "prompt_number": 1
    },
    {
     "cell_type": "code",
     "collapsed": false,
     "input": [
      "## Define paths and parameters\n",
      "root_dir = \"data/\"\n",
      "clim_dir = \"half_deg_files/\"\n",
      "outp_dir = \"outputs/\"\n",
      "\n",
      "show_plots = False"
     ],
     "language": "python",
     "metadata": {},
     "outputs": [],
     "prompt_number": 2
    },
    {
     "cell_type": "code",
     "collapsed": false,
     "input": [
      "## Load mask and remove coordinate system\n",
      "mask_file = root_dir + \"gc3_orca1_mask\"\n",
      "mask_list = iris.load( mask_file)\n",
      "mask = mask_list[0]\n",
      "\n",
      "print( \"Original coord_system\")\n",
      "print( mask.coord(\"latitude\").coord_system)\n",
      "print( mask.coord(\"longitude\").coord_system)\n",
      "\n",
      "#mask.coord(\"longitude\").units=\"m\"\n",
      "#mask.coord(\"latitude\").units=\"m\"\n",
      "mask.coord(\"latitude\").coord_system=None\n",
      "mask.coord(\"longitude\").coord_system=None\n",
      "\n",
      "print( \"New coord_system\")\n",
      "print( mask.coord(\"latitude\").coord_system)\n",
      "print( mask.coord(\"longitude\").coord_system)\n",
      "\n"
     ],
     "language": "python",
     "metadata": {},
     "outputs": [
      {
       "output_type": "stream",
       "stream": "stdout",
       "text": [
        "Original coord_system\n",
        "GeogCS(6371229.0)\n",
        "GeogCS(6371229.0)\n",
        "New coord_system\n",
        "None\n",
        "None\n"
       ]
      }
     ],
     "prompt_number": 3
    },
    {
     "cell_type": "code",
     "collapsed": false,
     "input": [
      "for input_file in listdir(root_dir + clim_dir):\n",
      "    output_file = outp_dir + \"regridded_\" + input_file\n",
      "    file = root_dir + clim_dir + input_file\n",
      "    print(file)\n",
      "    \n",
      "    cube_list = iris.load( file)\n",
      "    input_data = cube_list[0]\n",
      "\n",
      "    if show_plots: iris.plot.contour(input_data[0,:,:])\n",
      "    \n",
      "    output_data = input_data.regrid( mask, iris.analysis.Nearest())\n",
      "    \n",
      "    if show_plots: iris.plot.contour(output_data[0,:,:])\n",
      "\n",
      "    iris.save(output_data, output_file)\n"
     ],
     "language": "python",
     "metadata": {},
     "outputs": [
      {
       "output_type": "stream",
       "stream": "stdout",
       "text": [
        "data/half_deg_files/GSWP3.BC.Snowf.3hrMap.2009.nc\n",
        "data/half_deg_files/GSWP3.BC.Wind.3hrMap.2009.nc"
       ]
      },
      {
       "output_type": "stream",
       "stream": "stdout",
       "text": [
        "\n",
        "data/half_deg_files/GSWP3.BC.Wind.3hrMap.2010.nc"
       ]
      },
      {
       "output_type": "stream",
       "stream": "stdout",
       "text": [
        "\n",
        "data/half_deg_files/GSWP3.BC.Rainf.3hrMap.2010.nc"
       ]
      },
      {
       "output_type": "stream",
       "stream": "stdout",
       "text": [
        "\n",
        "data/half_deg_files/GSWP3.BC.Tair.3hrMap.2009.nc"
       ]
      },
      {
       "output_type": "stream",
       "stream": "stdout",
       "text": [
        "\n",
        "data/half_deg_files/GSWP3.BC.Snowf.3hrMap.2010.nc"
       ]
      },
      {
       "output_type": "stream",
       "stream": "stdout",
       "text": [
        "\n",
        "data/half_deg_files/GSWP3.BC.Tair.3hrMap.2010.nc"
       ]
      },
      {
       "output_type": "stream",
       "stream": "stdout",
       "text": [
        "\n",
        "data/half_deg_files/GSWP3.BC.LWdown.3hrMap.2010.nc"
       ]
      },
      {
       "output_type": "stream",
       "stream": "stdout",
       "text": [
        "\n",
        "data/half_deg_files/GSWP3.BC.Rainf.3hrMap.2009.nc"
       ]
      },
      {
       "output_type": "stream",
       "stream": "stdout",
       "text": [
        "\n",
        "data/half_deg_files/GSWP3.BC.SWdown.3hrMap.2010.nc"
       ]
      },
      {
       "output_type": "stream",
       "stream": "stdout",
       "text": [
        "\n",
        "data/half_deg_files/GSWP3.BC.PSurf.3hrMap.2010.nc"
       ]
      },
      {
       "output_type": "stream",
       "stream": "stdout",
       "text": [
        "\n",
        "data/half_deg_files/GSWP3.BC.SWdown.3hrMap.2009.nc"
       ]
      },
      {
       "output_type": "stream",
       "stream": "stdout",
       "text": [
        "\n",
        "data/half_deg_files/GSWP3.BC.Qair.3hrMap.2010.nc"
       ]
      },
      {
       "output_type": "stream",
       "stream": "stdout",
       "text": [
        "\n",
        "data/half_deg_files/GSWP3.BC.LWdown.3hrMap.2009.nc"
       ]
      },
      {
       "output_type": "stream",
       "stream": "stdout",
       "text": [
        "\n"
       ]
      },
      {
       "output_type": "stream",
       "stream": "stderr",
       "text": [
        "/usr/lib64/python2.7/site-packages/Iris-1.8.0-py2.7-linux-x86_64.egg/iris/fileformats/netcdf.py:1736: UserWarning: NetCDF default saving behaviour currently assigns the outermost dimensions to unlimited. This behaviour is to be deprecated, in favour of no automatic assignment. To switch to the new behaviour, set iris.FUTURE.netcdf_no_unlimited to True.\n",
        "  warnings.warn(msg)\n"
       ]
      }
     ],
     "prompt_number": 4
    },
    {
     "cell_type": "code",
     "collapsed": false,
     "input": [],
     "language": "python",
     "metadata": {},
     "outputs": []
    }
   ],
   "metadata": {}
  }
 ]
}