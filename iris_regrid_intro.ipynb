{
 "metadata": {
  "name": "",
  "signature": "sha256:fd99dcc47a31088d50fbaccd7509d356ac045d1d9d3cb11c66f12283a4baf6c0"
 },
 "nbformat": 3,
 "nbformat_minor": 0,
 "worksheets": [
  {
   "cells": [
    {
     "cell_type": "code",
     "collapsed": false,
     "input": [
      "## import libs\n",
      "import iris\n",
      "import matplotlib.pyplot as plt\n",
      "import iris.plot as iplt\n",
      "import numpy as np\n",
      "from os import listdir"
     ],
     "language": "python",
     "metadata": {},
     "outputs": [],
     "prompt_number": 1
    },
    {
     "cell_type": "code",
     "collapsed": false,
     "input": [
      "## Define paths\n",
      "root_dir = \"/localscratch/wllf011/rjel/files_for_doug/\"\n",
      "clim_dir = \"half_deg_files/\"\n",
      "outp_dir = \"outputs/\""
     ],
     "language": "python",
     "metadata": {},
     "outputs": [],
     "prompt_number": 2
    },
    {
     "cell_type": "code",
     "collapsed": false,
     "input": [
      "## Load mask and remove coordinate system\n",
      "mask_file = root_dir + \"gc3_orca1_mask\"\n",
      "mask_list = iris.load( mask_file)\n",
      "mask = mask_list[0]\n",
      "\n",
      "print( \"Original coord_system\")\n",
      "print( mask.coord(\"latitude\").coord_system)\n",
      "print( mask.coord(\"longitude\").coord_system)\n",
      "\n",
      "#mask.coord(\"longitude\").units=\"m\"\n",
      "#mask.coord(\"latitude\").units=\"m\"\n",
      "mask.coord(\"latitude\").coord_system=None\n",
      "mask.coord(\"longitude\").coord_system=None\n",
      "\n",
      "print( \"New coord_system\")\n",
      "print( mask.coord(\"latitude\").coord_system)\n",
      "print( mask.coord(\"longitude\").coord_system)\n",
      "\n"
     ],
     "language": "python",
     "metadata": {},
     "outputs": [
      {
       "output_type": "stream",
       "stream": "stdout",
       "text": [
        "Original coord_system\n",
        "GeogCS(6371229.0)\n",
        "GeogCS(6371229.0)\n",
        "New coord_system\n",
        "None\n",
        "None\n"
       ]
      }
     ],
     "prompt_number": 3
    },
    {
     "cell_type": "code",
     "collapsed": false,
     "input": [
      "\n",
      "\n",
      "##for input_file in listdir(root_dir + clim_dir):\n",
      "\n",
      "input_file = \"GSWP3.BC.SWdown.3hrMap.2009.nc\"\n",
      "output_file = outp_dir + \"regridded_\" + input_file\n",
      "cube_list = iris.load( root_dir + clim_dir + input_file)\n",
      "input_data = cube_list[0]\n",
      "\n",
      "\n",
      "output_data = input_data[0,:,:].regrid( mask, iris.analysis.Nearest())\n",
      "print(output_data)\n",
      "iris.save(output_data, output_file)\n"
     ],
     "language": "python",
     "metadata": {},
     "outputs": [
      {
       "output_type": "stream",
       "stream": "stdout",
       "text": [
        "surface_downwelling_shortwave_flux_in_air / (W m-2) (latitude: 144; longitude: 192)\n",
        "     Dimension coordinates:\n",
        "          latitude                                           x               -\n",
        "          longitude                                          -               x\n",
        "     Scalar coordinates:\n",
        "          time: 2009-01-01 00:00:00\n",
        "     Attributes:\n",
        "          alma_name: SWdown\n",
        "          amip_name: rsds\n",
        "          contributors: Satoshi Watanabe, Eun-Chul Chang, Kei Yoshimura, Gilbert Compo, Hirabayashi...\n",
        "          conventions: ALMA-3, CF-1.6, AMIP\n",
        "          creator: Hyungjun Kim <hjkim@iis.u-tokyo.ac.jp>\n",
        "          history: \n",
        "| 0.5b | 2014-06-22 | first beta release \n",
        "| 0.6b | 2014-07-18 | remove...\n",
        "          id: GSWP3.BC.SWdown.3hrMap.2009\n",
        "          institution: Institute of Industrial Science, The University of Tokyo\n",
        "          title: Global Soil Wetness Project 3 <http://hydro.iis.u-tokyo.ac.jp/GSWP3> EXP1...\n"
       ]
      },
      {
       "output_type": "stream",
       "stream": "stderr",
       "text": [
        "/usr/lib64/python2.7/site-packages/Iris-1.8.0-py2.7-linux-x86_64.egg/iris/fileformats/netcdf.py:1736: UserWarning: NetCDF default saving behaviour currently assigns the outermost dimensions to unlimited. This behaviour is to be deprecated, in favour of no automatic assignment. To switch to the new behaviour, set iris.FUTURE.netcdf_no_unlimited to True.\n",
        "  warnings.warn(msg)\n"
       ]
      }
     ],
     "prompt_number": 4
    },
    {
     "cell_type": "code",
     "collapsed": false,
     "input": [],
     "language": "python",
     "metadata": {},
     "outputs": []
    }
   ],
   "metadata": {}
  }
 ]
}